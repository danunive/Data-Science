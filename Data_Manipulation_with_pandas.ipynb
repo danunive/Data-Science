{
  "nbformat": 4,
  "nbformat_minor": 0,
  "metadata": {
    "colab": {
      "name": "Data Manipulation with pandas.ipynb",
      "provenance": [],
      "authorship_tag": "ABX9TyOwUT5Xo2FjtB27/hYvHNf5",
      "include_colab_link": true
    },
    "kernelspec": {
      "name": "python3",
      "display_name": "Python 3"
    },
    "language_info": {
      "name": "python"
    }
  },
  "cells": [
    {
      "cell_type": "markdown",
      "metadata": {
        "id": "view-in-github",
        "colab_type": "text"
      },
      "source": [
        "<a href=\"https://colab.research.google.com/github/danunive/Data-Science/blob/master/Data_Manipulation_with_pandas.ipynb\" target=\"_parent\"><img src=\"https://colab.research.google.com/assets/colab-badge.svg\" alt=\"Open In Colab\"/></a>"
      ]
    },
    {
      "cell_type": "markdown",
      "metadata": {
        "id": "MvlDeB9t6yrg"
      },
      "source": [
        "## **Manupilación de datos con Pandas**\n",
        "\n",
        "**Metodos**\n",
        "\n",
        "df.head()\n",
        "\n",
        "df-tail()\n",
        "\n",
        "df.info()\n",
        "\n",
        "df.describe()\n",
        "\n",
        "df.sort_values(\"Column\", ascending = False ) False indica que no queremos ordenamiento ascendente\n",
        "\n",
        "df.sort_values([\"Column1\",\"column2\"], ascending = [True, False] )\n",
        "\n",
        "df[\"column\"].isin([\"text1\", \"text2\"])\n",
        "\n",
        "**Atributos**\n",
        "\n",
        "df.shape\n",
        "\n",
        "df.values\n",
        "\n",
        "df.columns\n",
        "\n",
        "df.index -->  contains row numbers ar row names \n",
        "\n",
        "**Componentes de un dataframe**\n",
        "\n",
        "df.values --> a two - dimensional Numpy Array of values\n",
        "\n",
        "df.columns --> an index of columns the column names\n",
        "\n",
        "df.index --> An index for the rows\n",
        "\n",
        "\n",
        "**Filosofia de pandas**\n",
        "\n",
        "--> The zen of python by tim peters item 13\n",
        "\n",
        "**Para ver columnas especificas**\n",
        "\n",
        "df[\"Column\"]\n",
        "\n",
        "df[[\"Column1\",\"Column2\"]] --> Need two pairs of square brackets\n",
        "\n",
        "**Subsetting Rows**\n",
        "\n",
        "df[\"columns\"] < number\n",
        "\n",
        "df[ df[\"columns\"] < number]--> Show only the true row\n",
        "\n",
        "df[df[\"column\"] == \"Text\"]\n",
        "\n",
        "df[df[\"column\"] < \"date\"]  YYYY -MMMM- DDDD (International standard date format\n",
        "\n",
        "df[\"column\"].isin([\"text1\", \"text2\"])\n"
      ]
    },
    {
      "cell_type": "code",
      "metadata": {
        "id": "tVpjK1LE9bNL"
      },
      "source": [
        ""
      ],
      "execution_count": null,
      "outputs": []
    }
  ]
}