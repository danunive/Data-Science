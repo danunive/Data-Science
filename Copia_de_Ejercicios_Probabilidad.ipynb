{
  "nbformat": 4,
  "nbformat_minor": 0,
  "metadata": {
    "colab": {
      "name": "Copia de Ejercicios Probabilidad.ipynb",
      "provenance": [],
      "include_colab_link": true
    },
    "kernelspec": {
      "name": "python3",
      "display_name": "Python 3"
    }
  },
  "cells": [
    {
      "cell_type": "markdown",
      "metadata": {
        "id": "view-in-github",
        "colab_type": "text"
      },
      "source": [
        "<a href=\"https://colab.research.google.com/github/danunive/Data-Science/blob/master/Copia_de_Ejercicios_Probabilidad.ipynb\" target=\"_parent\"><img src=\"https://colab.research.google.com/assets/colab-badge.svg\" alt=\"Open In Colab\"/></a>"
      ]
    },
    {
      "cell_type": "markdown",
      "metadata": {
        "id": "EIYB8nQyy3bT",
        "colab_type": "text"
      },
      "source": [
        "In an English deck of cards there are 4 pints (hearts, spades, diamonds and clubs) and 13 cards per pint. That is, in total there are 52 cards. Suppose you choose two random cards. What is the probability that one of them is black since the other is also black?\n",
        "1.\t1/2\n",
        "2.\t25/52\n",
        "3.\t25/51\n",
        "4.\t26/51\n",
        "5.\tNone of above\n"
      ]
    },
    {
      "cell_type": "code",
      "metadata": {
        "id": "MkE8lMRpyoeW",
        "colab_type": "code",
        "colab": {}
      },
      "source": [
        "Primera Vez = 26/52\n",
        "Segunda Vez = 25 / 51\n"
      ],
      "execution_count": 0,
      "outputs": []
    },
    {
      "cell_type": "markdown",
      "metadata": {
        "id": "fITxt8LtzKan",
        "colab_type": "text"
      },
      "source": [
        "The probability that a Titi monkey likes to eat peanuts is 40%, and the probability of consuming it regularly is 20%. In addition, studies have shown that, among the Titi monkeys that eat peanuts, the probability of dying before 5 years is 5%. What is the probability of dying before 5 years of 5%. What is the probability that a Titi monkey eats peanuts regularly and dies before age 5?\n",
        "1.\t0.1\n",
        "2.\t0.04\n",
        "3.\t0.02\n",
        "4.\t0.01\n"
      ]
    },
    {
      "cell_type": "code",
      "metadata": {
        "id": "PErvp-stzVQh",
        "colab_type": "code",
        "colab": {}
      },
      "source": [
        ""
      ],
      "execution_count": 0,
      "outputs": []
    },
    {
      "cell_type": "markdown",
      "metadata": {
        "id": "0tNirTa2zVtK",
        "colab_type": "text"
      },
      "source": [
        "If you throw a 6-sided side 3 times. X1, X2 and X3 denote the value of the first, second and third throw.\n",
        "What is P (X1 + X2 + X3 <= 5)\n",
        "1.\t10/36\n",
        "2.\t5/36\n",
        "3.\t10/216\n",
        "4.\t5/216\n"
      ]
    },
    {
      "cell_type": "code",
      "metadata": {
        "id": "QsFaeWAbz9Ye",
        "colab_type": "code",
        "colab": {}
      },
      "source": [
        "10/216\n"
      ],
      "execution_count": 0,
      "outputs": []
    },
    {
      "cell_type": "markdown",
      "metadata": {
        "id": "cAmJqNA1z9so",
        "colab_type": "text"
      },
      "source": [
        "In an English deck of cards there are 4 pints (hearts, spades, diamonds and tremolo) and 13 cards per pints. That is, in total there are 52 cards. Suppose you choose two random cards. What is the probability that one of them is black since the other is red?\n",
        "1.\t1/2\n",
        "2.\t25/52\n",
        "3.\t1/4\n",
        "4.\t26/51\n"
      ]
    },
    {
      "cell_type": "code",
      "metadata": {
        "id": "o24ghvSg0J-B",
        "colab_type": "code",
        "outputId": "de71a509-fa4a-4003-e7c1-c0e9426080ae",
        "colab": {
          "base_uri": "https://localhost:8080/",
          "height": 34
        }
      },
      "source": [
        "26/51\n"
      ],
      "execution_count": 0,
      "outputs": [
        {
          "output_type": "execute_result",
          "data": {
            "text/plain": [
              "0.5098039215686274"
            ]
          },
          "metadata": {
            "tags": []
          },
          "execution_count": 1
        }
      ]
    },
    {
      "cell_type": "markdown",
      "metadata": {
        "id": "RtTbuiQv0KOZ",
        "colab_type": "text"
      },
      "source": [
        "Cosider a fair coin and fair die. The possible outcome toss is \"head\" or \"tail\", while the possible outcome for the die throw is 1,2,3,4,5 or 6. You toss the coin 4 times and throw the die 2 times.\n",
        "The number of possible outcomes for this experiment is________"
      ]
    },
    {
      "cell_type": "code",
      "metadata": {
        "id": "xls3j4xi0LbB",
        "colab_type": "code",
        "colab": {}
      },
      "source": [
        ""
      ],
      "execution_count": 0,
      "outputs": []
    },
    {
      "cell_type": "markdown",
      "metadata": {
        "id": "c0h2tCEs0__3",
        "colab_type": "text"
      },
      "source": [
        "A dart is thrown at circular dashboard such that it will land randomly over the area of the dashboard. What is the probability that it lands closer to the center than to the edge? Assume the dart always reaches the dashboard.\n",
        "1.\t25%\n",
        "2.\t50%\n",
        "3.\t10%\n",
        "4.\t33%"
      ]
    },
    {
      "cell_type": "code",
      "metadata": {
        "id": "eYFiTSTl1ATV",
        "colab_type": "code",
        "outputId": "537eea63-b1c4-4549-97dc-de1aae4a03d1",
        "colab": {
          "base_uri": "https://localhost:8080/",
          "height": 130
        }
      },
      "source": [
        "25%\n"
      ],
      "execution_count": 0,
      "outputs": [
        {
          "output_type": "error",
          "ename": "SyntaxError",
          "evalue": "ignored",
          "traceback": [
            "\u001b[0;36m  File \u001b[0;32m\"<ipython-input-2-ecad8d5bab20>\"\u001b[0;36m, line \u001b[0;32m1\u001b[0m\n\u001b[0;31m    25%\u001b[0m\n\u001b[0m       ^\u001b[0m\n\u001b[0;31mSyntaxError\u001b[0m\u001b[0;31m:\u001b[0m invalid syntax\n"
          ]
        }
      ]
    },
    {
      "cell_type": "code",
      "metadata": {
        "id": "X1ofnuZ4sDoM",
        "colab_type": "code",
        "colab": {}
      },
      "source": [
        ""
      ],
      "execution_count": 0,
      "outputs": []
    }
  ]
}