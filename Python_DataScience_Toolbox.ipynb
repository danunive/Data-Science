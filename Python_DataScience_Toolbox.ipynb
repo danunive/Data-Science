{
  "nbformat": 4,
  "nbformat_minor": 0,
  "metadata": {
    "colab": {
      "name": "Python_DataScience_Toolbox.ipynb",
      "provenance": [],
      "include_colab_link": true
    },
    "kernelspec": {
      "name": "python3",
      "display_name": "Python 3"
    },
    "language_info": {
      "name": "python"
    }
  },
  "cells": [
    {
      "cell_type": "markdown",
      "metadata": {
        "id": "view-in-github",
        "colab_type": "text"
      },
      "source": [
        "<a href=\"https://colab.research.google.com/github/danunive/Data-Science/blob/master/Python_DataScience_Toolbox.ipynb\" target=\"_parent\"><img src=\"https://colab.research.google.com/assets/colab-badge.svg\" alt=\"Open In Colab\"/></a>"
      ]
    },
    {
      "cell_type": "markdown",
      "metadata": {
        "id": "hEno5K0UCDOJ"
      },
      "source": [
        "\n",
        " **#Python Data Science Toolbox (Part 1)**\n",
        "\n",
        "Ref: https://campus.datacamp.com/courses/python-data-science-toolbox-part-1/writing-your-own-functions?ex=6"
      ]
    },
    {
      "cell_type": "markdown",
      "metadata": {
        "id": "V0tYQXJP8Fwu"
      },
      "source": [
        "Define function without parameters\n",
        "Define functions with one parameter\n",
        "Define functions that return a value\n",
        "later: multiple arguments, multiple return values"
      ]
    },
    {
      "cell_type": "code",
      "metadata": {
        "colab": {
          "base_uri": "https://localhost:8080/"
        },
        "id": "xINxUy978ZtV",
        "outputId": "f4453d5f-7731-42f2-82d4-58a388228ea5"
      },
      "source": [
        "x = str(5)\n",
        "print(x)\n",
        "print(type(x))"
      ],
      "execution_count": null,
      "outputs": [
        {
          "output_type": "stream",
          "text": [
            "5\n",
            "<class 'str'>\n"
          ],
          "name": "stdout"
        }
      ]
    },
    {
      "cell_type": "code",
      "metadata": {
        "colab": {
          "base_uri": "https://localhost:8080/"
        },
        "id": "v7kz37YC8dG5",
        "outputId": "f0e97338-1b84-4a2b-a96b-c8e81dc0e16a"
      },
      "source": [
        "def square():\n",
        "  new_value = 4**2\n",
        "  print(new_value)\n",
        "\n",
        "square()\n"
      ],
      "execution_count": null,
      "outputs": [
        {
          "output_type": "stream",
          "text": [
            "16\n"
          ],
          "name": "stdout"
        }
      ]
    },
    {
      "cell_type": "markdown",
      "metadata": {
        "id": "JsS7zthG85Dj"
      },
      "source": [
        "###Function Parameters\n",
        "\n",
        "You write parameters in the function header\n"
      ]
    },
    {
      "cell_type": "markdown",
      "metadata": {
        "id": "8e_6t9IOAK-z"
      },
      "source": [
        ""
      ]
    },
    {
      "cell_type": "code",
      "metadata": {
        "colab": {
          "base_uri": "https://localhost:8080/"
        },
        "id": "jAlBhnJD8xkR",
        "outputId": "51851d2f-6330-46c0-f945-9311a3595618"
      },
      "source": [
        "def square(value):\n",
        "  new_value = value**2\n",
        "  print(new_value)\n",
        "\n",
        "square(4)"
      ],
      "execution_count": null,
      "outputs": [
        {
          "output_type": "stream",
          "text": [
            "16\n"
          ],
          "name": "stdout"
        }
      ]
    },
    {
      "cell_type": "markdown",
      "metadata": {
        "id": "jObW6yYv9bO2"
      },
      "source": [
        "### Return values from functions\n",
        "\n"
      ]
    },
    {
      "cell_type": "code",
      "metadata": {
        "colab": {
          "base_uri": "https://localhost:8080/"
        },
        "id": "MEZPCxHl9uD3",
        "outputId": "95afbc8c-539e-457d-ccaf-764aa8cf6fac"
      },
      "source": [
        "def square(value):\n",
        "  new_value = value **2\n",
        "  return new_value\n",
        "\n",
        "num = square(4)\n",
        "print(num)"
      ],
      "execution_count": null,
      "outputs": [
        {
          "output_type": "stream",
          "text": [
            "16\n"
          ],
          "name": "stdout"
        }
      ]
    },
    {
      "cell_type": "markdown",
      "metadata": {
        "id": "vgrn5mYA9bNb"
      },
      "source": [
        "###Docstrings\n",
        "\n",
        "Describe what your function does,  such as the computations it performs or its return values\n",
        "\n",
        "These descriptions serve as documentation for your function so that anyone who reads your function´s docstrind understands what your function does\n"
      ]
    },
    {
      "cell_type": "code",
      "metadata": {
        "colab": {
          "base_uri": "https://localhost:8080/"
        },
        "id": "ov5fYLvx9FMl",
        "outputId": "284f9684-03d8-41c3-fdc9-6435c22819d8"
      },
      "source": [
        "def square(value):\n",
        "  \"\"\"Return the square of a value.\"\"\"\n",
        "  new_value = value **2\n",
        "  return new_value\n",
        "\n",
        "square(8)\n",
        "\n"
      ],
      "execution_count": null,
      "outputs": [
        {
          "output_type": "execute_result",
          "data": {
            "text/plain": [
              "64"
            ]
          },
          "metadata": {
            "tags": []
          },
          "execution_count": 8
        }
      ]
    },
    {
      "cell_type": "markdown",
      "metadata": {
        "id": "OJzO9UKHAQjC"
      },
      "source": [
        "it is important to remenber that assigning a variable y2 to a function that prints a value but does not return a value will result in thet variable y2 being of type Nonetype"
      ]
    },
    {
      "cell_type": "code",
      "metadata": {
        "id": "-IqTijgT-z7l"
      },
      "source": [
        "def shout():\n",
        "  shout_word = 'Congratulations'\n",
        "  print(shout_word)"
      ],
      "execution_count": null,
      "outputs": []
    },
    {
      "cell_type": "code",
      "metadata": {
        "colab": {
          "base_uri": "https://localhost:8080/"
        },
        "id": "CjyW97u0A6Dj",
        "outputId": "1b5fea8d-6d86-48ca-c90d-79f93652d0a3"
      },
      "source": [
        "shout()"
      ],
      "execution_count": null,
      "outputs": [
        {
          "output_type": "stream",
          "text": [
            "Congratulations\n"
          ],
          "name": "stdout"
        }
      ]
    },
    {
      "cell_type": "code",
      "metadata": {
        "colab": {
          "base_uri": "https://localhost:8080/"
        },
        "id": "UzNDaJA4A7In",
        "outputId": "9afb934e-e84d-4942-9e23-167108f96bb3"
      },
      "source": [
        "def shout(word):\n",
        "  shout_word = word + '!!!'\n",
        "  print(shout_word)\n",
        "\n",
        "shout('Congratilation')"
      ],
      "execution_count": null,
      "outputs": [
        {
          "output_type": "stream",
          "text": [
            "Congratilation!!!\n"
          ],
          "name": "stdout"
        }
      ]
    },
    {
      "cell_type": "markdown",
      "metadata": {
        "id": "qx2ndjmUBg1N"
      },
      "source": [
        "Multiple Parameters and return values\n"
      ]
    },
    {
      "cell_type": "code",
      "metadata": {
        "id": "0SqD0M3xBR54",
        "outputId": "b5ed1110-6403-498f-c1b9-8f94b4d2b167",
        "colab": {
          "base_uri": "https://localhost:8080/"
        }
      },
      "source": [
        "def raise_to_power(value1, value2):\n",
        "  new_value = value1**value2\n",
        "  return new_value\n",
        "\n",
        "result = raise_to_power(2,3)\n",
        "print(result)"
      ],
      "execution_count": 7,
      "outputs": [
        {
          "output_type": "stream",
          "text": [
            "8\n"
          ],
          "name": "stdout"
        }
      ]
    },
    {
      "cell_type": "markdown",
      "metadata": {
        "id": "PrEKBxdg_ecN"
      },
      "source": [
        "**Tuples:**\n",
        "\n",
        "- Like a list - can contain multiple values\n",
        "- Immutable - can´t modify values\n",
        "-Constructed using parentheses ()\n",
        "- Unpack a tuple into several variables"
      ]
    },
    {
      "cell_type": "code",
      "metadata": {
        "id": "WmId2e_h_R6L"
      },
      "source": [
        "event_num =(2,4,6)\n",
        "a, b, c = event_num"
      ],
      "execution_count": 9,
      "outputs": []
    },
    {
      "cell_type": "code",
      "metadata": {
        "id": "k8hW3uGD__tn",
        "outputId": "d548c004-7133-4a6b-8a87-644cf49684b5",
        "colab": {
          "base_uri": "https://localhost:8080/"
        }
      },
      "source": [
        "print(a)"
      ],
      "execution_count": 10,
      "outputs": [
        {
          "output_type": "stream",
          "text": [
            "2\n"
          ],
          "name": "stdout"
        }
      ]
    },
    {
      "cell_type": "code",
      "metadata": {
        "id": "WVMwwfDvAGOJ",
        "outputId": "8b2638f9-d935-4e5a-d8d5-1e037b396748",
        "colab": {
          "base_uri": "https://localhost:8080/"
        }
      },
      "source": [
        "event_num[0]"
      ],
      "execution_count": 11,
      "outputs": [
        {
          "output_type": "execute_result",
          "data": {
            "text/plain": [
              "2"
            ]
          },
          "metadata": {
            "tags": []
          },
          "execution_count": 11
        }
      ]
    },
    {
      "cell_type": "code",
      "metadata": {
        "id": "roo6Zj3XAQrn"
      },
      "source": [
        "def raise_both(value1, value2):\n",
        "  new_value1 = value1**value2\n",
        "  new_value2 = value2**value1\n",
        "\n",
        "  new_tuple = (new_value1, new_value2)\n",
        "  return new_tuple\n",
        "\n"
      ],
      "execution_count": 12,
      "outputs": []
    },
    {
      "cell_type": "code",
      "metadata": {
        "id": "Qq1kXCFGA0nA",
        "outputId": "8e65a480-6576-45b5-d0e3-73eaeb2f9faa",
        "colab": {
          "base_uri": "https://localhost:8080/"
        }
      },
      "source": [
        "result = raise_both(2,3)\n",
        "print(result)"
      ],
      "execution_count": 13,
      "outputs": [
        {
          "output_type": "stream",
          "text": [
            "(8, 9)\n"
          ],
          "name": "stdout"
        }
      ]
    },
    {
      "cell_type": "markdown",
      "metadata": {
        "id": "uWma1huiBJzi"
      },
      "source": [
        "Functions with multiple parameters\n"
      ]
    },
    {
      "cell_type": "code",
      "metadata": {
        "id": "yGAVI61BA-Ra"
      },
      "source": [
        ""
      ],
      "execution_count": null,
      "outputs": []
    }
  ]
}