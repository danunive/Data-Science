{
  "nbformat": 4,
  "nbformat_minor": 0,
  "metadata": {
    "colab": {
      "name": "Python_DataScience_Toolbox.ipynb",
      "provenance": [],
      "include_colab_link": true
    },
    "kernelspec": {
      "name": "python3",
      "display_name": "Python 3"
    },
    "language_info": {
      "name": "python"
    }
  },
  "cells": [
    {
      "cell_type": "markdown",
      "metadata": {
        "id": "view-in-github",
        "colab_type": "text"
      },
      "source": [
        "<a href=\"https://colab.research.google.com/github/danunive/Data-Science/blob/master/Python_DataScience_Toolbox.ipynb\" target=\"_parent\"><img src=\"https://colab.research.google.com/assets/colab-badge.svg\" alt=\"Open In Colab\"/></a>"
      ]
    },
    {
      "cell_type": "markdown",
      "metadata": {
        "id": "hEno5K0UCDOJ"
      },
      "source": [
        "\n",
        "### **Python Data Science Toolbox (Part 1)**\n",
        "\n",
        "Ref: https://campus.datacamp.com/courses/python-data-science-toolbox-part-1/writing-your-own-functions?ex=6"
      ]
    },
    {
      "cell_type": "markdown",
      "metadata": {
        "id": "V0tYQXJP8Fwu"
      },
      "source": [
        "Define function without parameters\n",
        "Define functions with one parameter\n",
        "Define functions that return a value\n",
        "later: multiple arguments, multiple return values"
      ]
    },
    {
      "cell_type": "code",
      "metadata": {
        "colab": {
          "base_uri": "https://localhost:8080/"
        },
        "id": "xINxUy978ZtV",
        "outputId": "f4453d5f-7731-42f2-82d4-58a388228ea5"
      },
      "source": [
        "x = str(5)\n",
        "print(x)\n",
        "print(type(x))"
      ],
      "execution_count": null,
      "outputs": [
        {
          "output_type": "stream",
          "text": [
            "5\n",
            "<class 'str'>\n"
          ],
          "name": "stdout"
        }
      ]
    },
    {
      "cell_type": "code",
      "metadata": {
        "colab": {
          "base_uri": "https://localhost:8080/"
        },
        "id": "v7kz37YC8dG5",
        "outputId": "f0e97338-1b84-4a2b-a96b-c8e81dc0e16a"
      },
      "source": [
        "def square():\n",
        "  new_value = 4**2\n",
        "  print(new_value)\n",
        "\n",
        "square()\n"
      ],
      "execution_count": null,
      "outputs": [
        {
          "output_type": "stream",
          "text": [
            "16\n"
          ],
          "name": "stdout"
        }
      ]
    },
    {
      "cell_type": "markdown",
      "metadata": {
        "id": "JsS7zthG85Dj"
      },
      "source": [
        "###Function Parameters\n",
        "\n",
        "You write parameters in the function header\n"
      ]
    },
    {
      "cell_type": "markdown",
      "metadata": {
        "id": "8e_6t9IOAK-z"
      },
      "source": [
        ""
      ]
    },
    {
      "cell_type": "code",
      "metadata": {
        "colab": {
          "base_uri": "https://localhost:8080/"
        },
        "id": "jAlBhnJD8xkR",
        "outputId": "51851d2f-6330-46c0-f945-9311a3595618"
      },
      "source": [
        "def square(value):\n",
        "  new_value = value**2\n",
        "  print(new_value)\n",
        "\n",
        "square(4)"
      ],
      "execution_count": null,
      "outputs": [
        {
          "output_type": "stream",
          "text": [
            "16\n"
          ],
          "name": "stdout"
        }
      ]
    },
    {
      "cell_type": "markdown",
      "metadata": {
        "id": "jObW6yYv9bO2"
      },
      "source": [
        "### Return values from functions\n",
        "\n"
      ]
    },
    {
      "cell_type": "code",
      "metadata": {
        "colab": {
          "base_uri": "https://localhost:8080/"
        },
        "id": "MEZPCxHl9uD3",
        "outputId": "95afbc8c-539e-457d-ccaf-764aa8cf6fac"
      },
      "source": [
        "def square(value):\n",
        "  new_value = value **2\n",
        "  return new_value\n",
        "\n",
        "num = square(4)\n",
        "print(num)"
      ],
      "execution_count": null,
      "outputs": [
        {
          "output_type": "stream",
          "text": [
            "16\n"
          ],
          "name": "stdout"
        }
      ]
    },
    {
      "cell_type": "markdown",
      "metadata": {
        "id": "vgrn5mYA9bNb"
      },
      "source": [
        "###Docstrings\n",
        "\n",
        "Describe what your function does,  such as the computations it performs or its return values\n",
        "\n",
        "These descriptions serve as documentation for your function so that anyone who reads your function´s docstrind understands what your function does\n"
      ]
    },
    {
      "cell_type": "code",
      "metadata": {
        "colab": {
          "base_uri": "https://localhost:8080/"
        },
        "id": "ov5fYLvx9FMl",
        "outputId": "284f9684-03d8-41c3-fdc9-6435c22819d8"
      },
      "source": [
        "def square(value):\n",
        "  \"\"\"Return the square of a value.\"\"\"\n",
        "  new_value = value **2\n",
        "  return new_value\n",
        "\n",
        "square(8)\n",
        "\n"
      ],
      "execution_count": null,
      "outputs": [
        {
          "output_type": "execute_result",
          "data": {
            "text/plain": [
              "64"
            ]
          },
          "metadata": {
            "tags": []
          },
          "execution_count": 8
        }
      ]
    },
    {
      "cell_type": "markdown",
      "metadata": {
        "id": "OJzO9UKHAQjC"
      },
      "source": [
        "it is important to remenber that assigning a variable y2 to a function that prints a value but does not return a value will result in thet variable y2 being of type Nonetype"
      ]
    },
    {
      "cell_type": "code",
      "metadata": {
        "id": "-IqTijgT-z7l"
      },
      "source": [
        "def shout():\n",
        "  shout_word = 'Congratulations'\n",
        "  print(shout_word)"
      ],
      "execution_count": null,
      "outputs": []
    },
    {
      "cell_type": "code",
      "metadata": {
        "colab": {
          "base_uri": "https://localhost:8080/"
        },
        "id": "CjyW97u0A6Dj",
        "outputId": "1b5fea8d-6d86-48ca-c90d-79f93652d0a3"
      },
      "source": [
        "shout()"
      ],
      "execution_count": null,
      "outputs": [
        {
          "output_type": "stream",
          "text": [
            "Congratulations\n"
          ],
          "name": "stdout"
        }
      ]
    },
    {
      "cell_type": "code",
      "metadata": {
        "colab": {
          "base_uri": "https://localhost:8080/"
        },
        "id": "UzNDaJA4A7In",
        "outputId": "9afb934e-e84d-4942-9e23-167108f96bb3"
      },
      "source": [
        "def shout(word):\n",
        "  shout_word = word + '!!!'\n",
        "  print(shout_word)\n",
        "\n",
        "shout('Congratilation')"
      ],
      "execution_count": null,
      "outputs": [
        {
          "output_type": "stream",
          "text": [
            "Congratilation!!!\n"
          ],
          "name": "stdout"
        }
      ]
    },
    {
      "cell_type": "markdown",
      "metadata": {
        "id": "qx2ndjmUBg1N"
      },
      "source": [
        "# **Bringing it all together**\n",
        "\n"
      ]
    },
    {
      "cell_type": "code",
      "metadata": {
        "id": "0SqD0M3xBR54"
      },
      "source": [
        "import pandas as pd\n"
      ],
      "execution_count": null,
      "outputs": []
    },
    {
      "cell_type": "code",
      "metadata": {
        "colab": {
          "base_uri": "https://localhost:8080/"
        },
        "id": "73a56Vmx-VW0",
        "outputId": "f1f3f299-96b7-40f1-dc11-ed8680e42512"
      },
      "source": [
        "df = pd.read_csv('/content/tweets.txt')\n",
        "df.head()\n",
        "df.columns"
      ],
      "execution_count": null,
      "outputs": [
        {
          "output_type": "execute_result",
          "data": {
            "text/plain": [
              "Index(['contributors', 'coordinates', 'created_at', 'entities',\n",
              "       'extended_entities', 'favorite_count', 'favorited', 'filter_level',\n",
              "       'geo', 'id', 'id_str', 'in_reply_to_screen_name',\n",
              "       'in_reply_to_status_id', 'in_reply_to_status_id_str',\n",
              "       'in_reply_to_user_id', 'in_reply_to_user_id_str', 'is_quote_status',\n",
              "       'lang', 'place', 'possibly_sensitive', 'quoted_status',\n",
              "       'quoted_status_id', 'quoted_status_id_str', 'retweet_count',\n",
              "       'retweeted', 'retweeted_status', 'source', 'text', 'timestamp_ms',\n",
              "       'truncated', 'user'],\n",
              "      dtype='object')"
            ]
          },
          "metadata": {
            "tags": []
          },
          "execution_count": 8
        }
      ]
    },
    {
      "cell_type": "code",
      "metadata": {
        "colab": {
          "base_uri": "https://localhost:8080/"
        },
        "id": "hStmv1tfAJRF",
        "outputId": "ca51fe1c-69c8-47ad-8457-1e0b1e61ea4c"
      },
      "source": [
        "col = df['lang']\n",
        "col.head(6)"
      ],
      "execution_count": null,
      "outputs": [
        {
          "output_type": "execute_result",
          "data": {
            "text/plain": [
              "0    en\n",
              "1    en\n",
              "2    et\n",
              "3    en\n",
              "4    en\n",
              "5    en\n",
              "Name: lang, dtype: object"
            ]
          },
          "metadata": {
            "tags": []
          },
          "execution_count": 9
        }
      ]
    },
    {
      "cell_type": "code",
      "metadata": {
        "id": "ZX39reEp-ZlA"
      },
      "source": [
        "langs_count = {}\n",
        "col = df['lang']"
      ],
      "execution_count": null,
      "outputs": []
    },
    {
      "cell_type": "code",
      "metadata": {
        "colab": {
          "base_uri": "https://localhost:8080/"
        },
        "id": "9GZf9GJz-60M",
        "outputId": "e0aaa7dc-8d58-401b-b433-063484f977de"
      },
      "source": [
        "for entry in col:\n",
        "  if entry in langs_count.keys():\n",
        "    langs_count[entry]+=1\n",
        "  else:\n",
        "    langs_count[entry] = 1\n",
        "  \n",
        "print (langs_count)"
      ],
      "execution_count": null,
      "outputs": [
        {
          "output_type": "stream",
          "text": [
            "{'en': 291, 'et': 3, 'und': 6}\n"
          ],
          "name": "stdout"
        }
      ]
    },
    {
      "cell_type": "code",
      "metadata": {
        "colab": {
          "base_uri": "https://localhost:8080/"
        },
        "id": "3rpfRUtzA-Wl",
        "outputId": "f98f7600-8285-4288-9ba7-cc76b77cbad5"
      },
      "source": [
        "def count_entries(df, col_name):\n",
        "    \"\"\"Return a dictionary with counts of \n",
        "    occurrences as value for each key.\"\"\"\n",
        "\n",
        "    # Initialize an empty dictionary: langs_count\n",
        "    langs_count = {}\n",
        "    \n",
        "    # Extract column from DataFrame: col\n",
        "    col = df[col_name]\n",
        "    \n",
        "    # Iterate over lang column in DataFrame\n",
        "    for entry in col:\n",
        "\n",
        "        # If the language is in langs_count, add 1\n",
        "        if entry in langs_count.keys():\n",
        "            langs_count[entry]+=1\n",
        "        # Else add the language to langs_count, set the value to 1\n",
        "        else:\n",
        "           langs_count[entry]=1\n",
        "\n",
        "    # Return the langs_count dictionary\n",
        "    return langs_count\n",
        "\n",
        "# Call count_entries(): result\n",
        "result=count_entries(df,'lang')\n",
        "\n",
        "# Print the result\n",
        "print(result)\n"
      ],
      "execution_count": null,
      "outputs": [
        {
          "output_type": "stream",
          "text": [
            "{'en': 97, 'et': 1, 'und': 2}\n"
          ],
          "name": "stdout"
        }
      ]
    },
    {
      "cell_type": "markdown",
      "metadata": {
        "id": "q7vZSP3sBw4d"
      },
      "source": [
        "## **Default arguments, variable - length arguments ans scope**\n",
        "\n",
        "Global vs. local Scope\n",
        "\n"
      ]
    },
    {
      "cell_type": "code",
      "metadata": {
        "id": "AjXYBuKkRQlB"
      },
      "source": [
        "def square(value):\n",
        "  new_val = value**2\n",
        "  return new_val"
      ],
      "execution_count": null,
      "outputs": []
    },
    {
      "cell_type": "code",
      "metadata": {
        "id": "h7aiwVubRZHm",
        "colab": {
          "base_uri": "https://localhost:8080/"
        },
        "outputId": "0f250a6c-f616-4ec7-efc4-b4bb79aa35af"
      },
      "source": [
        "square(3)"
      ],
      "execution_count": null,
      "outputs": [
        {
          "output_type": "execute_result",
          "data": {
            "text/plain": [
              "9"
            ]
          },
          "metadata": {
            "tags": []
          },
          "execution_count": 3
        }
      ]
    },
    {
      "cell_type": "code",
      "metadata": {
        "id": "8en1Iv7xRdpe"
      },
      "source": [
        "new_val ##No podemos acceder a esta variable pporque no es una variable global"
      ],
      "execution_count": null,
      "outputs": []
    },
    {
      "cell_type": "code",
      "metadata": {
        "id": "3HxV_8QSRk4M",
        "colab": {
          "base_uri": "https://localhost:8080/"
        },
        "outputId": "b1cbd370-f26d-46f8-cb58-5eed7acd5d0f"
      },
      "source": [
        "#En este caso tenemos variable global pero no se afecta con la función\n",
        "new_val = 10\n",
        "def square(value):\n",
        "  new_val = value**2\n",
        "  return new_val\n",
        "print(square(3))\n",
        "new_val"
      ],
      "execution_count": null,
      "outputs": [
        {
          "output_type": "stream",
          "text": [
            "9\n"
          ],
          "name": "stdout"
        },
        {
          "output_type": "execute_result",
          "data": {
            "text/plain": [
              "10"
            ]
          },
          "metadata": {
            "tags": []
          },
          "execution_count": 5
        }
      ]
    },
    {
      "cell_type": "code",
      "metadata": {
        "id": "wnHZ1pr6SM3E"
      },
      "source": [
        ""
      ],
      "execution_count": null,
      "outputs": []
    },
    {
      "cell_type": "code",
      "metadata": {
        "id": "0fNvqO1iR81t",
        "colab": {
          "base_uri": "https://localhost:8080/"
        },
        "outputId": "eb36646e-a03a-4fed-be83-15de16624fbc"
      },
      "source": [
        "# En este caso tenemos una función que opera con la variable global, sin embargo dicha variable  mantiene su  mismo valor\n",
        "\n",
        "new_val = 10\n",
        "def square(value):\n",
        "  new_val2 = new_val**2\n",
        "  return new_val2\n",
        "print(square(3))\n",
        "new_val"
      ],
      "execution_count": null,
      "outputs": [
        {
          "output_type": "stream",
          "text": [
            "100\n"
          ],
          "name": "stdout"
        },
        {
          "output_type": "execute_result",
          "data": {
            "text/plain": [
              "10"
            ]
          },
          "metadata": {
            "tags": []
          },
          "execution_count": 8
        }
      ]
    },
    {
      "cell_type": "code",
      "metadata": {
        "id": "WaL5f5VlSixP",
        "colab": {
          "base_uri": "https://localhost:8080/"
        },
        "outputId": "3d7d80f8-b705-4ff3-ad92-46d62c4857bd"
      },
      "source": [
        "# Con la función global vamos a acceder a la variable global y podremos reemplazarla\n",
        "new_val = 10\n",
        "def square(value):\n",
        "  global new_val ## Acceder a la variable global\n",
        "  new_val = value**2\n",
        "  return new_val\n",
        "print(square(3))\n",
        "new_val"
      ],
      "execution_count": null,
      "outputs": [
        {
          "output_type": "stream",
          "text": [
            "9\n"
          ],
          "name": "stdout"
        },
        {
          "output_type": "execute_result",
          "data": {
            "text/plain": [
              "9"
            ]
          },
          "metadata": {
            "tags": []
          },
          "execution_count": 12
        }
      ]
    },
    {
      "cell_type": "code",
      "metadata": {
        "id": "Esh4Cd3ZWF1h"
      },
      "source": [
        "## Revisar para qué sirve esta librería\n",
        "import builtins"
      ],
      "execution_count": null,
      "outputs": []
    },
    {
      "cell_type": "code",
      "metadata": {
        "id": "wSAxKoeEWJiS",
        "colab": {
          "base_uri": "https://localhost:8080/"
        },
        "outputId": "396e2293-7bf0-40c2-c127-023b3007d0de"
      },
      "source": [
        "dir(builtins)"
      ],
      "execution_count": null,
      "outputs": [
        {
          "output_type": "execute_result",
          "data": {
            "text/plain": [
              "['ArithmeticError',\n",
              " 'AssertionError',\n",
              " 'AttributeError',\n",
              " 'BaseException',\n",
              " 'BlockingIOError',\n",
              " 'BrokenPipeError',\n",
              " 'BufferError',\n",
              " 'BytesWarning',\n",
              " 'ChildProcessError',\n",
              " 'ConnectionAbortedError',\n",
              " 'ConnectionError',\n",
              " 'ConnectionRefusedError',\n",
              " 'ConnectionResetError',\n",
              " 'DeprecationWarning',\n",
              " 'EOFError',\n",
              " 'Ellipsis',\n",
              " 'EnvironmentError',\n",
              " 'Exception',\n",
              " 'False',\n",
              " 'FileExistsError',\n",
              " 'FileNotFoundError',\n",
              " 'FloatingPointError',\n",
              " 'FutureWarning',\n",
              " 'GeneratorExit',\n",
              " 'IOError',\n",
              " 'ImportError',\n",
              " 'ImportWarning',\n",
              " 'IndentationError',\n",
              " 'IndexError',\n",
              " 'InterruptedError',\n",
              " 'IsADirectoryError',\n",
              " 'KeyError',\n",
              " 'KeyboardInterrupt',\n",
              " 'LookupError',\n",
              " 'MemoryError',\n",
              " 'ModuleNotFoundError',\n",
              " 'NameError',\n",
              " 'None',\n",
              " 'NotADirectoryError',\n",
              " 'NotImplemented',\n",
              " 'NotImplementedError',\n",
              " 'OSError',\n",
              " 'OverflowError',\n",
              " 'PendingDeprecationWarning',\n",
              " 'PermissionError',\n",
              " 'ProcessLookupError',\n",
              " 'RecursionError',\n",
              " 'ReferenceError',\n",
              " 'ResourceWarning',\n",
              " 'RuntimeError',\n",
              " 'RuntimeWarning',\n",
              " 'StopAsyncIteration',\n",
              " 'StopIteration',\n",
              " 'SyntaxError',\n",
              " 'SyntaxWarning',\n",
              " 'SystemError',\n",
              " 'SystemExit',\n",
              " 'TabError',\n",
              " 'TimeoutError',\n",
              " 'True',\n",
              " 'TypeError',\n",
              " 'UnboundLocalError',\n",
              " 'UnicodeDecodeError',\n",
              " 'UnicodeEncodeError',\n",
              " 'UnicodeError',\n",
              " 'UnicodeTranslateError',\n",
              " 'UnicodeWarning',\n",
              " 'UserWarning',\n",
              " 'ValueError',\n",
              " 'Warning',\n",
              " 'ZeroDivisionError',\n",
              " '__IPYTHON__',\n",
              " '__build_class__',\n",
              " '__debug__',\n",
              " '__doc__',\n",
              " '__import__',\n",
              " '__loader__',\n",
              " '__name__',\n",
              " '__package__',\n",
              " '__spec__',\n",
              " 'abs',\n",
              " 'all',\n",
              " 'any',\n",
              " 'ascii',\n",
              " 'bin',\n",
              " 'bool',\n",
              " 'breakpoint',\n",
              " 'bytearray',\n",
              " 'bytes',\n",
              " 'callable',\n",
              " 'chr',\n",
              " 'classmethod',\n",
              " 'compile',\n",
              " 'complex',\n",
              " 'copyright',\n",
              " 'credits',\n",
              " 'delattr',\n",
              " 'dict',\n",
              " 'dir',\n",
              " 'display',\n",
              " 'divmod',\n",
              " 'dreload',\n",
              " 'enumerate',\n",
              " 'eval',\n",
              " 'exec',\n",
              " 'execfile',\n",
              " 'filter',\n",
              " 'float',\n",
              " 'format',\n",
              " 'frozenset',\n",
              " 'get_ipython',\n",
              " 'getattr',\n",
              " 'globals',\n",
              " 'hasattr',\n",
              " 'hash',\n",
              " 'help',\n",
              " 'hex',\n",
              " 'id',\n",
              " 'input',\n",
              " 'int',\n",
              " 'isinstance',\n",
              " 'issubclass',\n",
              " 'iter',\n",
              " 'len',\n",
              " 'license',\n",
              " 'list',\n",
              " 'locals',\n",
              " 'map',\n",
              " 'max',\n",
              " 'memoryview',\n",
              " 'min',\n",
              " 'next',\n",
              " 'object',\n",
              " 'oct',\n",
              " 'open',\n",
              " 'ord',\n",
              " 'pow',\n",
              " 'print',\n",
              " 'property',\n",
              " 'range',\n",
              " 'repr',\n",
              " 'reversed',\n",
              " 'round',\n",
              " 'runfile',\n",
              " 'set',\n",
              " 'setattr',\n",
              " 'slice',\n",
              " 'sorted',\n",
              " 'staticmethod',\n",
              " 'str',\n",
              " 'sum',\n",
              " 'super',\n",
              " 'tuple',\n",
              " 'type',\n",
              " 'vars',\n",
              " 'zip']"
            ]
          },
          "metadata": {
            "tags": []
          },
          "execution_count": 14
        }
      ]
    },
    {
      "cell_type": "markdown",
      "metadata": {
        "id": "zlq-2HwtXGEw"
      },
      "source": [
        "**Nested functions**\n"
      ]
    },
    {
      "cell_type": "code",
      "metadata": {
        "id": "a36t4vb0WNJV"
      },
      "source": [
        "def modulo(x1, x2, x3):\n",
        "  valor_1 = x1%2 +5\n",
        "  valor_2 = x2%2 +5\n",
        "  valor_3 = x3%2 +5\n",
        "  return(valor_1, valor_2, valor_3)"
      ],
      "execution_count": 1,
      "outputs": []
    },
    {
      "cell_type": "markdown",
      "metadata": {
        "id": "nsUPLtdzJ9N2"
      },
      "source": [
        "Devuelve una tupla.\n",
        "-- Con la tupla es posible agrupar."
      ]
    },
    {
      "cell_type": "code",
      "metadata": {
        "id": "Fn_BgciWJ5iI",
        "outputId": "3ac9d868-2678-44ae-ee12-dcb20d5f9a86",
        "colab": {
          "base_uri": "https://localhost:8080/"
        }
      },
      "source": [
        "x , y ,z = modulo(5,4,457)\n",
        "print(x)"
      ],
      "execution_count": 10,
      "outputs": [
        {
          "output_type": "stream",
          "text": [
            "6\n"
          ],
          "name": "stdout"
        }
      ]
    },
    {
      "cell_type": "code",
      "metadata": {
        "id": "jKCLN-9qKX3V"
      },
      "source": [
        "def modulo2(x1,x2,x3):\n",
        "  def interno(x):\n",
        "    return x%2 +5\n",
        "  return (interno(x1),interno(x2), interno(x3))"
      ],
      "execution_count": 16,
      "outputs": []
    },
    {
      "cell_type": "code",
      "metadata": {
        "id": "XOW1p4VPK5tu",
        "outputId": "b59cb636-71c6-4ef0-b570-a67c8143a8a3",
        "colab": {
          "base_uri": "https://localhost:8080/"
        }
      },
      "source": [
        "modulo2(9,10,11)"
      ],
      "execution_count": 17,
      "outputs": [
        {
          "output_type": "execute_result",
          "data": {
            "text/plain": [
              "(6, 5, 6)"
            ]
          },
          "metadata": {
            "tags": []
          },
          "execution_count": 17
        }
      ]
    },
    {
      "cell_type": "markdown",
      "metadata": {
        "id": "dYG9p3FnL4Qf"
      },
      "source": [
        "Ejemplo Nro 2\n",
        "\n",
        "Validar el returning functions"
      ]
    },
    {
      "cell_type": "code",
      "metadata": {
        "id": "FHjagIfgK-dF"
      },
      "source": [
        "def raise_val(n):\n",
        "  def inner(x):\n",
        "    raised = x**n\n",
        "    return raised\n",
        "\n",
        "  return inner"
      ],
      "execution_count": 29,
      "outputs": []
    },
    {
      "cell_type": "code",
      "metadata": {
        "id": "U2NLY9NKMRkt",
        "outputId": "fe0a3b02-b8b9-4369-a6b3-e35194bc1f03",
        "colab": {
          "base_uri": "https://localhost:8080/"
        }
      },
      "source": [
        "squared = raise_val(2)\n",
        "print(squared)"
      ],
      "execution_count": 31,
      "outputs": [
        {
          "output_type": "stream",
          "text": [
            "<function raise_val.<locals>.inner at 0x7fc49c5fc200>\n"
          ],
          "name": "stdout"
        }
      ]
    },
    {
      "cell_type": "markdown",
      "metadata": {
        "id": "Tw5SA3aqNovf"
      },
      "source": [
        "Using nonlocal"
      ]
    },
    {
      "cell_type": "code",
      "metadata": {
        "id": "dcbqJMwMMWfG",
        "outputId": "6ac1ff1f-e0ee-47a8-e971-53c6a55b72ab",
        "colab": {
          "base_uri": "https://localhost:8080/"
        }
      },
      "source": [
        "def outer():\n",
        "  n = 1\n",
        "\n",
        "  def inner():\n",
        "    nonlocal n\n",
        "    n = 2\n",
        "    print(n)\n",
        "  \n",
        "  inner()\n",
        "  print(n)\n",
        "\n",
        "outer()"
      ],
      "execution_count": 32,
      "outputs": [
        {
          "output_type": "stream",
          "text": [
            "2\n",
            "2\n"
          ],
          "name": "stdout"
        }
      ]
    },
    {
      "cell_type": "markdown",
      "metadata": {
        "id": "UhaZ1LtGQOSM"
      },
      "source": [
        "Add a default argument"
      ]
    },
    {
      "cell_type": "code",
      "metadata": {
        "id": "Ey-Gx2l-OAFd"
      },
      "source": [
        "def potencia(n, exp = 1):\n",
        "  numero = n**exp\n",
        "  return numero\n",
        "\n"
      ],
      "execution_count": 35,
      "outputs": []
    },
    {
      "cell_type": "code",
      "metadata": {
        "id": "OzxYGoTHQVod",
        "outputId": "09256c3d-5c0a-4608-ebfa-9b21592d1170",
        "colab": {
          "base_uri": "https://localhost:8080/"
        }
      },
      "source": [
        "print(potencia(9,2))\n",
        "print(potencia(9,1))\n",
        "print(potencia(9)) # Por defecto tiene el exponente de 1"
      ],
      "execution_count": 39,
      "outputs": [
        {
          "output_type": "stream",
          "text": [
            "81\n",
            "9\n",
            "9\n"
          ],
          "name": "stdout"
        }
      ]
    },
    {
      "cell_type": "markdown",
      "metadata": {
        "id": "6fvxB8cPQ54Y"
      },
      "source": [
        "flexible arguments: *arg\n"
      ]
    },
    {
      "cell_type": "code",
      "metadata": {
        "id": "6hI-t3wfQjN8"
      },
      "source": [
        "def todos(*args):\n",
        "  #inicializar la suma\n",
        "  suma = 0\n",
        "  for num in args:\n",
        "    suma += num\n",
        "  return suma"
      ],
      "execution_count": 42,
      "outputs": []
    },
    {
      "cell_type": "code",
      "metadata": {
        "id": "_vssmG8FRP6c",
        "outputId": "116f7827-6c1d-4abc-d42b-b1ee25d3900a",
        "colab": {
          "base_uri": "https://localhost:8080/"
        }
      },
      "source": [
        "print(todos(5))\n",
        "print(todos(5,5,16))"
      ],
      "execution_count": 43,
      "outputs": [
        {
          "output_type": "stream",
          "text": [
            "5\n",
            "26\n"
          ],
          "name": "stdout"
        }
      ]
    },
    {
      "cell_type": "markdown",
      "metadata": {
        "id": "nlLsm1xZRmit"
      },
      "source": [
        "# Flexible arguments: **Kwargs \n"
      ]
    },
    {
      "cell_type": "code",
      "metadata": {
        "id": "aKE-_1tnSFYC",
        "outputId": "a61e77e0-3f87-4b2c-ec13-ab0bdba08ff4",
        "colab": {
          "base_uri": "https://localhost:8080/",
          "height": 126
        }
      },
      "source": [
        "##Error en datacamp\n",
        "def print_all(**kwargs):\n",
        "  for key, value in kwargs.items():\n",
        "    print(key + \\\": \\\" + value)"
      ],
      "execution_count": 61,
      "outputs": [
        {
          "output_type": "error",
          "ename": "SyntaxError",
          "evalue": "ignored",
          "traceback": [
            "\u001b[0;36m  File \u001b[0;32m\"<ipython-input-61-d0a1d1214bc1>\"\u001b[0;36m, line \u001b[0;32m3\u001b[0m\n\u001b[0;31m    print(key + \\\": \\\" + value)\u001b[0m\n\u001b[0m                               ^\u001b[0m\n\u001b[0;31mSyntaxError\u001b[0m\u001b[0;31m:\u001b[0m unexpected character after line continuation character\n"
          ]
        }
      ]
    },
    {
      "cell_type": "code",
      "metadata": {
        "id": "n8m2qCqxRWSk",
        "outputId": "56775b50-d68f-4aa6-f43a-46c948baf45e",
        "colab": {
          "base_uri": "https://localhost:8080/",
          "height": 126
        }
      },
      "source": [
        "print_all({name=\"Daniela Anaya Rojas\", universidad =\"Unal\"})"
      ],
      "execution_count": 57,
      "outputs": [
        {
          "output_type": "error",
          "ename": "SyntaxError",
          "evalue": "ignored",
          "traceback": [
            "\u001b[0;36m  File \u001b[0;32m\"<ipython-input-57-b64f556a745d>\"\u001b[0;36m, line \u001b[0;32m1\u001b[0m\n\u001b[0;31m    print_all({name=\"Daniela Anaya Rojas\", universidad =\"Unal\"})\u001b[0m\n\u001b[0m                   ^\u001b[0m\n\u001b[0;31mSyntaxError\u001b[0m\u001b[0;31m:\u001b[0m invalid syntax\n"
          ]
        }
      ]
    },
    {
      "cell_type": "code",
      "metadata": {
        "id": "eRCL6hWNR84U"
      },
      "source": [
        "# Referencia 2: https://book.pythontips.com/en/latest/args_and_kwargs.html\n",
        "def greet_me(**kwargs):\n",
        "    for key, value in kwargs.items():\n",
        "        print(\"{0} = {1}\".format(key, value))"
      ],
      "execution_count": 62,
      "outputs": []
    },
    {
      "cell_type": "code",
      "metadata": {
        "id": "vIBiYZ2EUWNi",
        "outputId": "c1fec527-7f9b-47dd-f94d-0c01838c1da5",
        "colab": {
          "base_uri": "https://localhost:8080/"
        }
      },
      "source": [
        "greet_me(name=\"Daniela Anaya Rojas\", universidad =\"Unal\")"
      ],
      "execution_count": 63,
      "outputs": [
        {
          "output_type": "stream",
          "text": [
            "name = Daniela Anaya Rojas\n",
            "universidad = Unal\n"
          ],
          "name": "stdout"
        }
      ]
    },
    {
      "cell_type": "markdown",
      "metadata": {
        "id": "jgX9HrS9XgO_"
      },
      "source": [
        "### **bringing it all together**"
      ]
    },
    {
      "cell_type": "code",
      "metadata": {
        "id": "ahbMhYGaUWt6"
      },
      "source": [
        ""
      ],
      "execution_count": null,
      "outputs": []
    }
  ]
}