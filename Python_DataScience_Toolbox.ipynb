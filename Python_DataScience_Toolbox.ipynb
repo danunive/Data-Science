{
  "nbformat": 4,
  "nbformat_minor": 0,
  "metadata": {
    "colab": {
      "name": "Python_DataScience_Toolbox.ipynb",
      "provenance": [],
      "toc_visible": true,
      "authorship_tag": "ABX9TyPn9lpqtdQKQ5Z4yQksujx0",
      "include_colab_link": true
    },
    "kernelspec": {
      "name": "python3",
      "display_name": "Python 3"
    },
    "language_info": {
      "name": "python"
    }
  },
  "cells": [
    {
      "cell_type": "markdown",
      "metadata": {
        "id": "view-in-github",
        "colab_type": "text"
      },
      "source": [
        "<a href=\"https://colab.research.google.com/github/danunive/Data-Science/blob/master/Python_DataScience_Toolbox.ipynb\" target=\"_parent\"><img src=\"https://colab.research.google.com/assets/colab-badge.svg\" alt=\"Open In Colab\"/></a>"
      ]
    },
    {
      "cell_type": "markdown",
      "metadata": {
        "id": "hEno5K0UCDOJ"
      },
      "source": [
        "\n",
        "### **Python Data Science Toolbox (Part 1)**\n",
        "\n",
        "Ref: https://campus.datacamp.com/courses/python-data-science-toolbox-part-1/writing-your-own-functions?ex=6"
      ]
    },
    {
      "cell_type": "markdown",
      "metadata": {
        "id": "V0tYQXJP8Fwu"
      },
      "source": [
        "Define function without parameters\n",
        "Define functions with one parameter\n",
        "Define functions that return a value\n",
        "later: multiple arguments, multiple return values"
      ]
    },
    {
      "cell_type": "code",
      "metadata": {
        "colab": {
          "base_uri": "https://localhost:8080/"
        },
        "id": "xINxUy978ZtV",
        "outputId": "f4453d5f-7731-42f2-82d4-58a388228ea5"
      },
      "source": [
        "x = str(5)\n",
        "print(x)\n",
        "print(type(x))"
      ],
      "execution_count": null,
      "outputs": [
        {
          "output_type": "stream",
          "text": [
            "5\n",
            "<class 'str'>\n"
          ],
          "name": "stdout"
        }
      ]
    },
    {
      "cell_type": "code",
      "metadata": {
        "colab": {
          "base_uri": "https://localhost:8080/"
        },
        "id": "v7kz37YC8dG5",
        "outputId": "f0e97338-1b84-4a2b-a96b-c8e81dc0e16a"
      },
      "source": [
        "def square():\n",
        "  new_value = 4**2\n",
        "  print(new_value)\n",
        "\n",
        "square()\n"
      ],
      "execution_count": null,
      "outputs": [
        {
          "output_type": "stream",
          "text": [
            "16\n"
          ],
          "name": "stdout"
        }
      ]
    },
    {
      "cell_type": "markdown",
      "metadata": {
        "id": "JsS7zthG85Dj"
      },
      "source": [
        "###Function Parameters\n",
        "\n",
        "You write parameters in the function header\n"
      ]
    },
    {
      "cell_type": "markdown",
      "metadata": {
        "id": "8e_6t9IOAK-z"
      },
      "source": [
        ""
      ]
    },
    {
      "cell_type": "code",
      "metadata": {
        "colab": {
          "base_uri": "https://localhost:8080/"
        },
        "id": "jAlBhnJD8xkR",
        "outputId": "51851d2f-6330-46c0-f945-9311a3595618"
      },
      "source": [
        "def square(value):\n",
        "  new_value = value**2\n",
        "  print(new_value)\n",
        "\n",
        "square(4)"
      ],
      "execution_count": null,
      "outputs": [
        {
          "output_type": "stream",
          "text": [
            "16\n"
          ],
          "name": "stdout"
        }
      ]
    },
    {
      "cell_type": "markdown",
      "metadata": {
        "id": "jObW6yYv9bO2"
      },
      "source": [
        "### Return values from functions\n",
        "\n"
      ]
    },
    {
      "cell_type": "code",
      "metadata": {
        "colab": {
          "base_uri": "https://localhost:8080/"
        },
        "id": "MEZPCxHl9uD3",
        "outputId": "95afbc8c-539e-457d-ccaf-764aa8cf6fac"
      },
      "source": [
        "def square(value):\n",
        "  new_value = value **2\n",
        "  return new_value\n",
        "\n",
        "num = square(4)\n",
        "print(num)"
      ],
      "execution_count": null,
      "outputs": [
        {
          "output_type": "stream",
          "text": [
            "16\n"
          ],
          "name": "stdout"
        }
      ]
    },
    {
      "cell_type": "markdown",
      "metadata": {
        "id": "vgrn5mYA9bNb"
      },
      "source": [
        "###Docstrings\n",
        "\n",
        "Describe what your function does,  such as the computations it performs or its return values\n",
        "\n",
        "These descriptions serve as documentation for your function so that anyone who reads your function´s docstrind understands what your function does\n"
      ]
    },
    {
      "cell_type": "code",
      "metadata": {
        "colab": {
          "base_uri": "https://localhost:8080/"
        },
        "id": "ov5fYLvx9FMl",
        "outputId": "284f9684-03d8-41c3-fdc9-6435c22819d8"
      },
      "source": [
        "def square(value):\n",
        "  \"\"\"Return the square of a value.\"\"\"\n",
        "  new_value = value **2\n",
        "  return new_value\n",
        "\n",
        "square(8)\n",
        "\n"
      ],
      "execution_count": null,
      "outputs": [
        {
          "output_type": "execute_result",
          "data": {
            "text/plain": [
              "64"
            ]
          },
          "metadata": {
            "tags": []
          },
          "execution_count": 8
        }
      ]
    },
    {
      "cell_type": "markdown",
      "metadata": {
        "id": "OJzO9UKHAQjC"
      },
      "source": [
        "it is important to remenber that assigning a variable y2 to a function that prints a value but does not return a value will result in thet variable y2 being of type Nonetype"
      ]
    },
    {
      "cell_type": "code",
      "metadata": {
        "id": "-IqTijgT-z7l"
      },
      "source": [
        "def shout():\n",
        "  shout_word = 'Congratulations'\n",
        "  print(shout_word)"
      ],
      "execution_count": null,
      "outputs": []
    },
    {
      "cell_type": "code",
      "metadata": {
        "colab": {
          "base_uri": "https://localhost:8080/"
        },
        "id": "CjyW97u0A6Dj",
        "outputId": "1b5fea8d-6d86-48ca-c90d-79f93652d0a3"
      },
      "source": [
        "shout()"
      ],
      "execution_count": null,
      "outputs": [
        {
          "output_type": "stream",
          "text": [
            "Congratulations\n"
          ],
          "name": "stdout"
        }
      ]
    },
    {
      "cell_type": "code",
      "metadata": {
        "colab": {
          "base_uri": "https://localhost:8080/"
        },
        "id": "UzNDaJA4A7In",
        "outputId": "9afb934e-e84d-4942-9e23-167108f96bb3"
      },
      "source": [
        "def shout(word):\n",
        "  shout_word = word + '!!!'\n",
        "  print(shout_word)\n",
        "\n",
        "shout('Congratilation')"
      ],
      "execution_count": null,
      "outputs": [
        {
          "output_type": "stream",
          "text": [
            "Congratilation!!!\n"
          ],
          "name": "stdout"
        }
      ]
    },
    {
      "cell_type": "markdown",
      "metadata": {
        "id": "qx2ndjmUBg1N"
      },
      "source": [
        "# **Bringing it all together**\n",
        "\n"
      ]
    },
    {
      "cell_type": "code",
      "metadata": {
        "id": "0SqD0M3xBR54"
      },
      "source": [
        "import pandas as pd\n"
      ],
      "execution_count": null,
      "outputs": []
    },
    {
      "cell_type": "code",
      "metadata": {
        "colab": {
          "base_uri": "https://localhost:8080/"
        },
        "id": "73a56Vmx-VW0",
        "outputId": "f1f3f299-96b7-40f1-dc11-ed8680e42512"
      },
      "source": [
        "df = pd.read_csv('/content/tweets.txt')\n",
        "df.head()\n",
        "df.columns"
      ],
      "execution_count": null,
      "outputs": [
        {
          "output_type": "execute_result",
          "data": {
            "text/plain": [
              "Index(['contributors', 'coordinates', 'created_at', 'entities',\n",
              "       'extended_entities', 'favorite_count', 'favorited', 'filter_level',\n",
              "       'geo', 'id', 'id_str', 'in_reply_to_screen_name',\n",
              "       'in_reply_to_status_id', 'in_reply_to_status_id_str',\n",
              "       'in_reply_to_user_id', 'in_reply_to_user_id_str', 'is_quote_status',\n",
              "       'lang', 'place', 'possibly_sensitive', 'quoted_status',\n",
              "       'quoted_status_id', 'quoted_status_id_str', 'retweet_count',\n",
              "       'retweeted', 'retweeted_status', 'source', 'text', 'timestamp_ms',\n",
              "       'truncated', 'user'],\n",
              "      dtype='object')"
            ]
          },
          "metadata": {
            "tags": []
          },
          "execution_count": 8
        }
      ]
    },
    {
      "cell_type": "code",
      "metadata": {
        "colab": {
          "base_uri": "https://localhost:8080/"
        },
        "id": "hStmv1tfAJRF",
        "outputId": "ca51fe1c-69c8-47ad-8457-1e0b1e61ea4c"
      },
      "source": [
        "col = df['lang']\n",
        "col.head(6)"
      ],
      "execution_count": null,
      "outputs": [
        {
          "output_type": "execute_result",
          "data": {
            "text/plain": [
              "0    en\n",
              "1    en\n",
              "2    et\n",
              "3    en\n",
              "4    en\n",
              "5    en\n",
              "Name: lang, dtype: object"
            ]
          },
          "metadata": {
            "tags": []
          },
          "execution_count": 9
        }
      ]
    },
    {
      "cell_type": "code",
      "metadata": {
        "id": "ZX39reEp-ZlA"
      },
      "source": [
        "langs_count = {}\n",
        "col = df['lang']"
      ],
      "execution_count": null,
      "outputs": []
    },
    {
      "cell_type": "code",
      "metadata": {
        "colab": {
          "base_uri": "https://localhost:8080/"
        },
        "id": "9GZf9GJz-60M",
        "outputId": "e0aaa7dc-8d58-401b-b433-063484f977de"
      },
      "source": [
        "for entry in col:\n",
        "  if entry in langs_count.keys():\n",
        "    langs_count[entry]+=1\n",
        "  else:\n",
        "    langs_count[entry] = 1\n",
        "  \n",
        "print (langs_count)"
      ],
      "execution_count": null,
      "outputs": [
        {
          "output_type": "stream",
          "text": [
            "{'en': 291, 'et': 3, 'und': 6}\n"
          ],
          "name": "stdout"
        }
      ]
    },
    {
      "cell_type": "code",
      "metadata": {
        "colab": {
          "base_uri": "https://localhost:8080/"
        },
        "id": "3rpfRUtzA-Wl",
        "outputId": "f98f7600-8285-4288-9ba7-cc76b77cbad5"
      },
      "source": [
        "def count_entries(df, col_name):\n",
        "    \"\"\"Return a dictionary with counts of \n",
        "    occurrences as value for each key.\"\"\"\n",
        "\n",
        "    # Initialize an empty dictionary: langs_count\n",
        "    langs_count = {}\n",
        "    \n",
        "    # Extract column from DataFrame: col\n",
        "    col = df[col_name]\n",
        "    \n",
        "    # Iterate over lang column in DataFrame\n",
        "    for entry in col:\n",
        "\n",
        "        # If the language is in langs_count, add 1\n",
        "        if entry in langs_count.keys():\n",
        "            langs_count[entry]+=1\n",
        "        # Else add the language to langs_count, set the value to 1\n",
        "        else:\n",
        "           langs_count[entry]=1\n",
        "\n",
        "    # Return the langs_count dictionary\n",
        "    return langs_count\n",
        "\n",
        "# Call count_entries(): result\n",
        "result=count_entries(df,'lang')\n",
        "\n",
        "# Print the result\n",
        "print(result)\n"
      ],
      "execution_count": null,
      "outputs": [
        {
          "output_type": "stream",
          "text": [
            "{'en': 97, 'et': 1, 'und': 2}\n"
          ],
          "name": "stdout"
        }
      ]
    },
    {
      "cell_type": "markdown",
      "metadata": {
        "id": "q7vZSP3sBw4d"
      },
      "source": [
        "## **Default arguments, variable - length arguments ans scope**\n"
      ]
    }
  ]
}